{
 "cells": [
  {
   "cell_type": "code",
   "execution_count": 94,
   "metadata": {},
   "outputs": [],
   "source": [
    "import requests\n",
    "import json\n",
    "import pandas as pd"
   ]
  },
  {
   "cell_type": "code",
   "execution_count": 95,
   "metadata": {},
   "outputs": [],
   "source": [
    "id = 420100\n",
    "type = 'move_out'"
   ]
  },
  {
   "cell_type": "code",
   "execution_count": 96,
   "metadata": {},
   "outputs": [],
   "source": [
    "url = 'http://huiyan.baidu.com/migration/historycurve.jsonp?dt=city&id={id}&type={type}'.format(id = id,type=type)"
   ]
  },
  {
   "cell_type": "code",
   "execution_count": 97,
   "metadata": {},
   "outputs": [],
   "source": [
    "#get response as string\n",
    "file = requests.get(url)"
   ]
  },
  {
   "cell_type": "code",
   "execution_count": 98,
   "metadata": {},
   "outputs": [],
   "source": [
    "#read data from file \n",
    "data = json.loads(file.text.split('(')[1][:-1])"
   ]
  },
  {
   "cell_type": "code",
   "execution_count": 99,
   "metadata": {},
   "outputs": [],
   "source": [
    "dict = data['data']['list']"
   ]
  },
  {
   "cell_type": "code",
   "execution_count": 100,
   "metadata": {},
   "outputs": [
    {
     "data": {
      "text/plain": [
       "{'20190112': 5.0520672,\n",
       " '20190113': 4.0588128,\n",
       " '20190114': 4.0048344,\n",
       " '20190115': 3.7246716,\n",
       " '20190116': 3.990384,\n",
       " '20190117': 4.2154992,\n",
       " '20190118': 4.4281404,\n",
       " '20190119': 5.2943544,\n",
       " '20190120': 4.5848268,\n",
       " '20190121': 4.5717696,\n",
       " '20190122': 4.6891548,\n",
       " '20190123': 4.8062484,\n",
       " '20190124': 4.8605184,\n",
       " '20190125': 5.6628396,\n",
       " '20190126': 7.043598,\n",
       " '20190127': 6.4897524,\n",
       " '20190128': 6.770628,\n",
       " '20190129': 7.0281756,\n",
       " '20190130': 7.1071668,\n",
       " '20190131': 7.4799612,\n",
       " '20190201': 8.7140124,\n",
       " '20190202': 9.604332,\n",
       " '20190203': 9.2246688,\n",
       " '20190204': 7.3813356,\n",
       " '20190205': 5.5432188,\n",
       " '20190206': 6.5359224,\n",
       " '20190207': 5.6417148,\n",
       " '20190208': 4.7044152,\n",
       " '20190209': 4.2702228,\n",
       " '20190210': 3.7155024,\n",
       " '20190211': 3.5002044,\n",
       " '20190212': 3.2788152,\n",
       " '20190213': 3.4030692,\n",
       " '20190214': 3.368466,\n",
       " '20190215': 3.4485264,\n",
       " '20190216': 3.9908376,\n",
       " '20190217': 3.5591724,\n",
       " '20190218': 4.090176,\n",
       " '20190219': 3.7104804,\n",
       " '20190220': 2.97918,\n",
       " '20190221': 2.9042712,\n",
       " '20190222': 3.0486132,\n",
       " '20190223': 3.8984328,\n",
       " '20190224': 3.7769652,\n",
       " '20190225': 3.3372324,\n",
       " '20190226': 3.0736908,\n",
       " '20190227': 3.2840964,\n",
       " '20190228': 4.323618,\n",
       " '20190301': 3.6168768,\n",
       " '20190302': 4.2287832,\n",
       " '20190303': 3.4576956,\n",
       " '20190304': 3.8100456,\n",
       " '20190305': 3.3020136,\n",
       " '20190306': 3.2068224,\n",
       " '20190307': 3.3307848,\n",
       " '20190308': 3.8843064,\n",
       " '20190309': 4.7331216,\n",
       " '20190310': 3.8916612,\n",
       " '20190311': 4.0662,\n",
       " '20190312': 3.4735068,\n",
       " '20190313': 3.3584868,\n",
       " '20200101': 3.455298,\n",
       " '20200102': 3.5246016,\n",
       " '20200103': 5.5244268,\n",
       " '20200104': 6.0998184,\n",
       " '20200105': 5.3224776,\n",
       " '20200106': 5.5981368,\n",
       " '20200107': 6.4050264,\n",
       " '20200108': 7.3430712,\n",
       " '20200109': 8.1436104,\n",
       " '20200110': 6.6232404,\n",
       " '20200111': 7.561188,\n",
       " '20200112': 6.2165232,\n",
       " '20200113': 5.7620484,\n",
       " '20200114': 5.4578124,\n",
       " '20200115': 5.9086584,\n",
       " '20200116': 6.0027804,\n",
       " '20200117': 6.4428372,\n",
       " '20200118': 7.7131764,\n",
       " '20200119': 7.4059596,\n",
       " '20200120': 8.3070036,\n",
       " '20200121': 10.7367444,\n",
       " '20200122': 11.8403208,\n",
       " '20200123': 11.1386988,\n",
       " '20200124': 3.8936376,\n",
       " '20200125': 1.2966804,\n",
       " '20200126': 0.6610572,\n",
       " '20200127': 0.4302396,\n",
       " '20200128': 0.3196908,\n",
       " '20200129': 0.2616624,\n",
       " '20200130': 0.2436804,\n",
       " '20200131': 0.2375892,\n",
       " '20200201': 0.2353212,\n",
       " '20200202': 0.4614732,\n",
       " '20200203': 0.2121552,\n",
       " '20200204': 0.2334096,\n",
       " '20200205': 0.2751408,\n",
       " '20200206': 0.2769876,\n",
       " '20200207': 0.2719656,\n",
       " '20200208': 0.2824632,\n",
       " '20200209': 0.287874,\n",
       " '20200210': 0.2748492,\n",
       " '20200211': 0.2697948,\n",
       " '20200212': 0.2855412,\n",
       " '20200213': 0.305532,\n",
       " '20200214': 0.313632,\n",
       " '20200215': 0.3047544,\n",
       " '20200216': 0.2887812,\n",
       " '20200217': 0.2801952,\n",
       " '20200218': 0.2579688,\n",
       " '20200219': 0.2527848,\n",
       " '20200220': 0.26163,\n",
       " '20200221': 0.2588112,\n",
       " '20200222': 0.252396}"
      ]
     },
     "execution_count": 100,
     "metadata": {},
     "output_type": "execute_result"
    }
   ],
   "source": [
    "dict"
   ]
  },
  {
   "cell_type": "code",
   "execution_count": 101,
   "metadata": {},
   "outputs": [],
   "source": [
    "col = str(id) + '_' + type + '_index'\n",
    "names = [col]"
   ]
  },
  {
   "cell_type": "code",
   "execution_count": 102,
   "metadata": {},
   "outputs": [],
   "source": [
    "df = pd.DataFrame.from_dict(dict,orient='index',columns=names)"
   ]
  },
  {
   "cell_type": "code",
   "execution_count": 103,
   "metadata": {},
   "outputs": [],
   "source": [
    "df_2019 = df[0:61]\n",
    "df_2020 = df[61:]"
   ]
  },
  {
   "cell_type": "code",
   "execution_count": 104,
   "metadata": {},
   "outputs": [
    {
     "data": {
      "text/html": [
       "<div>\n",
       "<style scoped>\n",
       "    .dataframe tbody tr th:only-of-type {\n",
       "        vertical-align: middle;\n",
       "    }\n",
       "\n",
       "    .dataframe tbody tr th {\n",
       "        vertical-align: top;\n",
       "    }\n",
       "\n",
       "    .dataframe thead th {\n",
       "        text-align: right;\n",
       "    }\n",
       "</style>\n",
       "<table border=\"1\" class=\"dataframe\">\n",
       "  <thead>\n",
       "    <tr style=\"text-align: right;\">\n",
       "      <th></th>\n",
       "      <th>420100_move_out_index</th>\n",
       "    </tr>\n",
       "  </thead>\n",
       "  <tbody>\n",
       "    <tr>\n",
       "      <td>20200101</td>\n",
       "      <td>3.455298</td>\n",
       "    </tr>\n",
       "    <tr>\n",
       "      <td>20200102</td>\n",
       "      <td>3.524602</td>\n",
       "    </tr>\n",
       "    <tr>\n",
       "      <td>20200103</td>\n",
       "      <td>5.524427</td>\n",
       "    </tr>\n",
       "    <tr>\n",
       "      <td>20200104</td>\n",
       "      <td>6.099818</td>\n",
       "    </tr>\n",
       "    <tr>\n",
       "      <td>20200105</td>\n",
       "      <td>5.322478</td>\n",
       "    </tr>\n",
       "  </tbody>\n",
       "</table>\n",
       "</div>"
      ],
      "text/plain": [
       "          420100_move_out_index\n",
       "20200101               3.455298\n",
       "20200102               3.524602\n",
       "20200103               5.524427\n",
       "20200104               6.099818\n",
       "20200105               5.322478"
      ]
     },
     "execution_count": 104,
     "metadata": {},
     "output_type": "execute_result"
    }
   ],
   "source": [
    "df_2020.head()"
   ]
  },
  {
   "cell_type": "code",
   "execution_count": 105,
   "metadata": {},
   "outputs": [
    {
     "data": {
      "text/html": [
       "<div>\n",
       "<style scoped>\n",
       "    .dataframe tbody tr th:only-of-type {\n",
       "        vertical-align: middle;\n",
       "    }\n",
       "\n",
       "    .dataframe tbody tr th {\n",
       "        vertical-align: top;\n",
       "    }\n",
       "\n",
       "    .dataframe thead th {\n",
       "        text-align: right;\n",
       "    }\n",
       "</style>\n",
       "<table border=\"1\" class=\"dataframe\">\n",
       "  <thead>\n",
       "    <tr style=\"text-align: right;\">\n",
       "      <th></th>\n",
       "      <th>420100_move_out_index</th>\n",
       "    </tr>\n",
       "  </thead>\n",
       "  <tbody>\n",
       "    <tr>\n",
       "      <td>20190309</td>\n",
       "      <td>4.733122</td>\n",
       "    </tr>\n",
       "    <tr>\n",
       "      <td>20190310</td>\n",
       "      <td>3.891661</td>\n",
       "    </tr>\n",
       "    <tr>\n",
       "      <td>20190311</td>\n",
       "      <td>4.066200</td>\n",
       "    </tr>\n",
       "    <tr>\n",
       "      <td>20190312</td>\n",
       "      <td>3.473507</td>\n",
       "    </tr>\n",
       "    <tr>\n",
       "      <td>20190313</td>\n",
       "      <td>3.358487</td>\n",
       "    </tr>\n",
       "  </tbody>\n",
       "</table>\n",
       "</div>"
      ],
      "text/plain": [
       "          420100_move_out_index\n",
       "20190309               4.733122\n",
       "20190310               3.891661\n",
       "20190311               4.066200\n",
       "20190312               3.473507\n",
       "20190313               3.358487"
      ]
     },
     "execution_count": 105,
     "metadata": {},
     "output_type": "execute_result"
    }
   ],
   "source": [
    "df_2019.tail()"
   ]
  },
  {
   "cell_type": "code",
   "execution_count": 107,
   "metadata": {},
   "outputs": [],
   "source": [
    "out_2019 = col + '_2019.csv'\n",
    "out_2020 = col + '_2020.csv'"
   ]
  },
  {
   "cell_type": "code",
   "execution_count": 109,
   "metadata": {},
   "outputs": [],
   "source": [
    "df_2019.to_csv(out_2019)\n",
    "df_2020.to_csv(out_2020)"
   ]
  },
  {
   "cell_type": "code",
   "execution_count": null,
   "metadata": {},
   "outputs": [],
   "source": []
  }
 ],
 "metadata": {
  "kernelspec": {
   "display_name": "Python 3",
   "language": "python",
   "name": "python3"
  },
  "language_info": {
   "codemirror_mode": {
    "name": "ipython",
    "version": 3
   },
   "file_extension": ".py",
   "mimetype": "text/x-python",
   "name": "python",
   "nbconvert_exporter": "python",
   "pygments_lexer": "ipython3",
   "version": "3.7.4"
  }
 },
 "nbformat": 4,
 "nbformat_minor": 2
}
